{
  "nbformat": 4,
  "nbformat_minor": 0,
  "metadata": {
    "colab": {
      "provenance": []
    },
    "kernelspec": {
      "name": "python3",
      "display_name": "Python 3"
    },
    "language_info": {
      "name": "python"
    }
  },
  "cells": [
    {
      "cell_type": "code",
      "execution_count": 1,
      "metadata": {
        "colab": {
          "base_uri": "https://localhost:8080/"
        },
        "id": "83uGPI53eqLn",
        "outputId": "6c88b673-0048-4761-9224-423410ca7b9b"
      },
      "outputs": [
        {
          "output_type": "stream",
          "name": "stdout",
          "text": [
            "12.75\n",
            "5.0\n"
          ]
        }
      ],
      "source": [
        "class Solution:\n",
        "    def findMaxAverage(self, nums, k):\n",
        "        max_sum = current_sum = sum(nums[:k])\n",
        "\n",
        "        for i in range(k, len(nums)):\n",
        "            current_sum += nums[i] - nums[i - k]\n",
        "            max_sum = max(max_sum, current_sum)\n",
        "\n",
        "        return max_sum / k\n",
        "\n",
        "\n",
        "solution = Solution()\n",
        "nums1 = [1, 12, -5, -6, 50, 3]\n",
        "k1 = 4\n",
        "print(solution.findMaxAverage(nums1, k1))\n",
        "\n",
        "nums2 = [5]\n",
        "k2 = 1\n",
        "print(solution.findMaxAverage(nums2, k2))\n"
      ]
    }
  ]
}