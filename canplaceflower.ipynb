{
  "nbformat": 4,
  "nbformat_minor": 0,
  "metadata": {
    "colab": {
      "provenance": []
    },
    "kernelspec": {
      "name": "python3",
      "display_name": "Python 3"
    },
    "language_info": {
      "name": "python"
    }
  },
  "cells": [
    {
      "cell_type": "code",
      "execution_count": 2,
      "metadata": {
        "colab": {
          "base_uri": "https://localhost:8080/"
        },
        "id": "4UMqkoYMdzWi",
        "outputId": "9c6e0bea-71fc-45e8-f5e5-ee24e75886f5"
      },
      "outputs": [
        {
          "output_type": "stream",
          "name": "stdout",
          "text": [
            "True\n",
            "False\n"
          ]
        }
      ],
      "source": [
        "class Solution:\n",
        "    def canPlaceFlowers(self, flowerbed, n):\n",
        "        count = 0\n",
        "        length = len(flowerbed)\n",
        "\n",
        "        for i in range(length):\n",
        "            if flowerbed[i] == 0:\n",
        "                empty_left = (i == 0) or (flowerbed[i - 1] == 0)\n",
        "                empty_right = (i == length - 1) or (flowerbed[i + 1] == 0)\n",
        "\n",
        "                if empty_left and empty_right:\n",
        "                    flowerbed[i] = 1\n",
        "                    count += 1\n",
        "\n",
        "                    if count >= n:\n",
        "                        return True\n",
        "\n",
        "        return count >= n\n",
        "flowerbed = [1, 0, 0, 0, 1]\n",
        "n = 1\n",
        "solution = Solution()\n",
        "print(solution.canPlaceFlowers(flowerbed, n))\n",
        "n = 2\n",
        "print(solution.canPlaceFlowers(flowerbed, n))"
      ]
    }
  ]
}