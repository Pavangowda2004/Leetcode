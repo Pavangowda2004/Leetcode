{
  "nbformat": 4,
  "nbformat_minor": 0,
  "metadata": {
    "colab": {
      "provenance": []
    },
    "kernelspec": {
      "name": "python3",
      "display_name": "Python 3"
    },
    "language_info": {
      "name": "python"
    }
  },
  "cells": [
    {
      "cell_type": "code",
      "execution_count": 1,
      "metadata": {
        "colab": {
          "base_uri": "https://localhost:8080/"
        },
        "id": "73WRPNIYY2CD",
        "outputId": "48f7eb18-92a3-4812-e58d-f090474994e1"
      },
      "outputs": [
        {
          "output_type": "stream",
          "name": "stdout",
          "text": [
            "6\n",
            "['a', '2', 'b', '2', 'c', '3']\n",
            "1\n",
            "['a']\n",
            "4\n",
            "['a', 'b', '1', '2']\n"
          ]
        }
      ],
      "source": [
        "class Solution:\n",
        "    def compress(self, chars):\n",
        "        write = 0\n",
        "        left = 0\n",
        "\n",
        "        while left < len(chars):\n",
        "            right = left\n",
        "            while right < len(chars) and chars[right] == chars[left]:\n",
        "                right += 1\n",
        "\n",
        "            chars[write] = chars[left]\n",
        "            write += 1\n",
        "\n",
        "            if right - left > 1:\n",
        "                for digit in str(right - left):\n",
        "                    chars[write] = digit\n",
        "                    write += 1\n",
        "\n",
        "            left = right\n",
        "\n",
        "        return write\n",
        "\n",
        "\n",
        "solution = Solution()\n",
        "chars1 = [\"a\", \"a\", \"b\", \"b\", \"c\", \"c\", \"c\"]\n",
        "new_length1 = solution.compress(chars1)\n",
        "print(new_length1)\n",
        "print(chars1[:new_length1])\n",
        "\n",
        "chars2 = [\"a\"]\n",
        "new_length2 = solution.compress(chars2)\n",
        "print(new_length2)\n",
        "print(chars2[:new_length2])\n",
        "\n",
        "chars3 = [\"a\", \"b\", \"b\", \"b\", \"b\", \"b\", \"b\", \"b\", \"b\", \"b\", \"b\", \"b\", \"b\"]\n",
        "new_length3 = solution.compress(chars3)\n",
        "print(new_length3)\n",
        "print(chars3[:new_length3])\n"
      ]
    }
  ]
}