{
  "nbformat": 4,
  "nbformat_minor": 0,
  "metadata": {
    "colab": {
      "provenance": []
    },
    "kernelspec": {
      "name": "python3",
      "display_name": "Python 3"
    },
    "language_info": {
      "name": "python"
    }
  },
  "cells": [
    {
      "cell_type": "code",
      "execution_count": 1,
      "metadata": {
        "colab": {
          "base_uri": "https://localhost:8080/"
        },
        "id": "fI4ep9etb_wz",
        "outputId": "5a153438-430a-410c-a868-53c002204de9"
      },
      "outputs": [
        {
          "output_type": "stream",
          "name": "stdout",
          "text": [
            "49\n",
            "1\n"
          ]
        }
      ],
      "source": [
        "class Solution:\n",
        "    def maxArea(self, height):\n",
        "        left, right = 0, len(height) - 1\n",
        "        max_area = 0\n",
        "\n",
        "        while left < right:\n",
        "            width = right - left\n",
        "            current_height = min(height[left], height[right])\n",
        "            max_area = max(max_area, width * current_height)\n",
        "\n",
        "            if height[left] < height[right]:\n",
        "                left += 1\n",
        "            else:\n",
        "                right -= 1\n",
        "\n",
        "        return max_area\n",
        "\n",
        "solution = Solution()\n",
        "height1 = [1, 8, 6, 2, 5, 4, 8, 3, 7]\n",
        "print(solution.maxArea(height1))\n",
        "\n",
        "height2 = [1, 1]\n",
        "print(solution.maxArea(height2))"
      ]
    }
  ]
}