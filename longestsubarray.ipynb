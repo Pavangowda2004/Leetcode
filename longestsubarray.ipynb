{
  "nbformat": 4,
  "nbformat_minor": 0,
  "metadata": {
    "colab": {
      "provenance": []
    },
    "kernelspec": {
      "name": "python3",
      "display_name": "Python 3"
    },
    "language_info": {
      "name": "python"
    }
  },
  "cells": [
    {
      "cell_type": "code",
      "source": [
        "class Solution:\n",
        "    def longestSubarray(self, nums):\n",
        "        left = 0\n",
        "        max_length = 0\n",
        "        zero_count = 0\n",
        "\n",
        "        for right in range(len(nums)):\n",
        "            if nums[right] == 0:\n",
        "                zero_count += 1\n",
        "\n",
        "            while zero_count > 1:\n",
        "                if nums[left] == 0:\n",
        "                    zero_count -= 1\n",
        "                left += 1\n",
        "\n",
        "            max_length = max(max_length, right - left)\n",
        "\n",
        "        return max_length\n",
        "\n",
        "\n",
        "solution = Solution()\n",
        "nums1 = [1, 1, 0, 1]\n",
        "print(solution.longestSubarray(nums1))\n",
        "\n",
        "nums2 = [0, 1, 1, 1, 0, 1, 1, 0, 1]\n",
        "print(solution.longestSubarray(nums2))\n",
        "\n",
        "nums3 = [1, 1, 1]\n",
        "print(solution.longestSubarray(nums3))\n"
      ],
      "metadata": {
        "colab": {
          "base_uri": "https://localhost:8080/"
        },
        "id": "Ozv_tfH5itFx",
        "outputId": "feb76136-0e2d-4a53-940c-d11216cc07a7"
      },
      "execution_count": 1,
      "outputs": [
        {
          "output_type": "stream",
          "name": "stdout",
          "text": [
            "3\n",
            "5\n",
            "2\n"
          ]
        }
      ]
    }
  ]
}