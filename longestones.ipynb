{
  "nbformat": 4,
  "nbformat_minor": 0,
  "metadata": {
    "colab": {
      "provenance": []
    },
    "kernelspec": {
      "name": "python3",
      "display_name": "Python 3"
    },
    "language_info": {
      "name": "python"
    }
  },
  "cells": [
    {
      "cell_type": "code",
      "execution_count": 1,
      "metadata": {
        "colab": {
          "base_uri": "https://localhost:8080/"
        },
        "id": "_4znhZKuhUfV",
        "outputId": "e584c6ec-9655-42d6-9499-0602afc6ca30"
      },
      "outputs": [
        {
          "output_type": "stream",
          "name": "stdout",
          "text": [
            "6\n",
            "10\n"
          ]
        }
      ],
      "source": [
        "class Solution:\n",
        "    def longestOnes(self, nums, k):\n",
        "        left = 0\n",
        "        max_length = 0\n",
        "        zero_count = 0\n",
        "\n",
        "        for right in range(len(nums)):\n",
        "            if nums[right] == 0:\n",
        "                zero_count += 1\n",
        "\n",
        "            while zero_count > k:\n",
        "                if nums[left] == 0:\n",
        "                    zero_count -= 1\n",
        "                left += 1\n",
        "\n",
        "            max_length = max(max_length, right - left + 1)\n",
        "\n",
        "        return max_length\n",
        "\n",
        "\n",
        "solution = Solution()\n",
        "nums1 = [1, 1, 1, 0, 0, 0, 1, 1, 1, 1, 0]\n",
        "k1 = 2\n",
        "print(solution.longestOnes(nums1, k1))\n",
        "nums2 = [0, 0, 1, 1, 0, 0, 1, 1, 1, 0, 1, 1, 0, 0, 0, 1, 1, 1, 1]\n",
        "k2 = 3\n",
        "print(solution.longestOnes(nums2, k2))"
      ]
    }
  ]
}