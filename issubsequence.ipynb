{
  "nbformat": 4,
  "nbformat_minor": 0,
  "metadata": {
    "colab": {
      "provenance": []
    },
    "kernelspec": {
      "name": "python3",
      "display_name": "Python 3"
    },
    "language_info": {
      "name": "python"
    }
  },
  "cells": [
    {
      "cell_type": "code",
      "execution_count": 1,
      "metadata": {
        "colab": {
          "base_uri": "https://localhost:8080/"
        },
        "id": "cSb3IdMebaVm",
        "outputId": "b867ee8c-869c-471d-afd5-a2d73772df58"
      },
      "outputs": [
        {
          "output_type": "stream",
          "name": "stdout",
          "text": [
            "True\n",
            "False\n"
          ]
        }
      ],
      "source": [
        "class Solution:\n",
        "    def isSubsequence(self, s, t):\n",
        "        s_index, t_index = 0, 0\n",
        "\n",
        "        while s_index < len(s) and t_index < len(t):\n",
        "            if s[s_index] == t[t_index]:\n",
        "                s_index += 1\n",
        "            t_index += 1\n",
        "\n",
        "        return s_index == len(s)\n",
        "\n",
        "\n",
        "solution = Solution()\n",
        "s1, t1 = \"abc\", \"ahbgdc\"\n",
        "print(solution.isSubsequence(s1, t1))\n",
        "\n",
        "s2, t2 = \"axc\", \"ahbgdc\"\n",
        "print(solution.isSubsequence(s2, t2))\n"
      ]
    }
  ]
}