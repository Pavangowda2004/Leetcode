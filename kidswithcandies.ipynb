{
  "nbformat": 4,
  "nbformat_minor": 0,
  "metadata": {
    "colab": {
      "provenance": []
    },
    "kernelspec": {
      "name": "python3",
      "display_name": "Python 3"
    },
    "language_info": {
      "name": "python"
    }
  },
  "cells": [
    {
      "cell_type": "code",
      "execution_count": 1,
      "metadata": {
        "colab": {
          "base_uri": "https://localhost:8080/"
        },
        "id": "_Y-3Nyu6dHqi",
        "outputId": "6073c008-3609-414c-912b-a77b35bb49bf"
      },
      "outputs": [
        {
          "output_type": "stream",
          "name": "stdout",
          "text": [
            "[True, True, True, False, True]\n"
          ]
        }
      ],
      "source": [
        "class Solution:\n",
        "    def kidsWithCandies(self, candies, extraCandies):\n",
        "        max_candies = max(candies)\n",
        "        result = []\n",
        "        for candy in candies:\n",
        "            result.append(candy + extraCandies >= max_candies)\n",
        "        return result\n",
        "solution = Solution()\n",
        "candies = [2, 3, 5, 1, 3]\n",
        "extraCandies = 3\n",
        "print(solution.kidsWithCandies(candies, extraCandies))"
      ]
    }
  ]
}