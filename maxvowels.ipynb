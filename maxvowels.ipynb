{
  "nbformat": 4,
  "nbformat_minor": 0,
  "metadata": {
    "colab": {
      "provenance": []
    },
    "kernelspec": {
      "name": "python3",
      "display_name": "Python 3"
    },
    "language_info": {
      "name": "python"
    }
  },
  "cells": [
    {
      "cell_type": "code",
      "execution_count": 1,
      "metadata": {
        "colab": {
          "base_uri": "https://localhost:8080/"
        },
        "id": "KGKeMge9girP",
        "outputId": "9fcfca97-4947-4302-c7e9-95f06aeb3d97"
      },
      "outputs": [
        {
          "output_type": "stream",
          "name": "stdout",
          "text": [
            "3\n",
            "2\n",
            "2\n"
          ]
        }
      ],
      "source": [
        "class Solution:\n",
        "    def maxVowels(self, s, k):\n",
        "        vowels = set('aeiou')\n",
        "        max_vowels = current_vowels = 0\n",
        "\n",
        "        for i in range(len(s)):\n",
        "            if s[i] in vowels:\n",
        "                current_vowels += 1\n",
        "            if i >= k and s[i - k] in vowels:\n",
        "                current_vowels -= 1\n",
        "            max_vowels = max(max_vowels, current_vowels)\n",
        "\n",
        "        return max_vowels\n",
        "\n",
        "\n",
        "solution = Solution()\n",
        "s1, k1 = \"abciiidef\", 3\n",
        "print(solution.maxVowels(s1, k1))\n",
        "\n",
        "s2, k2 = \"aeiou\", 2\n",
        "print(solution.maxVowels(s2, k2))\n",
        "\n",
        "s3, k3 = \"leetcode\", 3\n",
        "print(solution.maxVowels(s3, k3))\n"
      ]
    }
  ]
}