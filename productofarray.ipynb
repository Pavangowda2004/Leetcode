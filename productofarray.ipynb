{
  "nbformat": 4,
  "nbformat_minor": 0,
  "metadata": {
    "colab": {
      "provenance": []
    },
    "kernelspec": {
      "name": "python3",
      "display_name": "Python 3"
    },
    "language_info": {
      "name": "python"
    }
  },
  "cells": [
    {
      "cell_type": "code",
      "execution_count": 3,
      "metadata": {
        "colab": {
          "base_uri": "https://localhost:8080/"
        },
        "id": "vJU0boK1VhYv",
        "outputId": "068c2c07-3af9-47df-effc-5a1d1e8dacd6"
      },
      "outputs": [
        {
          "output_type": "stream",
          "name": "stdout",
          "text": [
            "[24, 12, 8, 6]\n",
            "[0, 0, 9, 0, 0]\n"
          ]
        }
      ],
      "source": [
        "class Solution:\n",
        "    def productExceptSelf(self, nums):\n",
        "        n = len(nums)\n",
        "        answer = [1] * n\n",
        "\n",
        "\n",
        "        left_product = 1\n",
        "        for i in range(n):\n",
        "            answer[i] = left_product\n",
        "            left_product *= nums[i]\n",
        "\n",
        "\n",
        "        right_product = 1\n",
        "        for i in range(n-1, -1, -1):\n",
        "            answer[i] *= right_product\n",
        "            right_product *= nums[i]\n",
        "\n",
        "        return answer\n",
        "\n",
        "\n",
        "solution = Solution()\n",
        "nums1 = [1, 2, 3, 4]\n",
        "print(solution.productExceptSelf(nums1))\n",
        "\n",
        "nums2 = [-1, 1, 0, -3, 3]\n",
        "print(solution.productExceptSelf(nums2))\n"
      ]
    }
  ]
}