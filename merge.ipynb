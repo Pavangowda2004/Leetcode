{
  "nbformat": 4,
  "nbformat_minor": 0,
  "metadata": {
    "colab": {
      "provenance": []
    },
    "kernelspec": {
      "name": "python3",
      "display_name": "Python 3"
    },
    "language_info": {
      "name": "python"
    }
  },
  "cells": [
    {
      "cell_type": "code",
      "execution_count": 1,
      "metadata": {
        "colab": {
          "base_uri": "https://localhost:8080/"
        },
        "id": "qalYf29hb8yk",
        "outputId": "875c2cc9-7ae4-4f6d-de5f-09de5544dfac"
      },
      "outputs": [
        {
          "output_type": "stream",
          "name": "stdout",
          "text": [
            "apbqcrstu\n"
          ]
        }
      ],
      "source": [
        "def merge_alternately(word1, word2):\n",
        "    merged = []\n",
        "    len1, len2 = len(word1), len(word2)\n",
        "    min_len = min(len1, len2)\n",
        "    for i in range(min_len):\n",
        "        merged.append(word1[i])\n",
        "        merged.append(word2[i])\n",
        "    if len1 > len2:\n",
        "        merged.append(word1[min_len:])\n",
        "    elif len2 > len1:\n",
        "        merged.append(word2[min_len:])\n",
        "    return ''.join(merged)\n",
        "word1 = \"abc\"\n",
        "word2 = \"pqrstu\"\n",
        "result = merge_alternately(word1, word2)\n",
        "print(result)"
      ]
    }
  ]
}