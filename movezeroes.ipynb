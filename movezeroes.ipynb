{
  "nbformat": 4,
  "nbformat_minor": 0,
  "metadata": {
    "colab": {
      "provenance": []
    },
    "kernelspec": {
      "name": "python3",
      "display_name": "Python 3"
    },
    "language_info": {
      "name": "python"
    }
  },
  "cells": [
    {
      "cell_type": "code",
      "execution_count": 1,
      "metadata": {
        "colab": {
          "base_uri": "https://localhost:8080/"
        },
        "id": "vlOAuVE3Z2QI",
        "outputId": "94e5d69c-82b8-46bf-d58c-8cc371cb8139"
      },
      "outputs": [
        {
          "output_type": "stream",
          "name": "stdout",
          "text": [
            "[1, 3, 12, 0, 0]\n",
            "[0]\n"
          ]
        }
      ],
      "source": [
        "class Solution:\n",
        "    def moveZeroes(self, nums):\n",
        "        last_non_zero_found_at = 0\n",
        "\n",
        "        for i in range(len(nums)):\n",
        "            if nums[i] != 0:\n",
        "                nums[last_non_zero_found_at], nums[i] = nums[i], nums[last_non_zero_found_at]\n",
        "                last_non_zero_found_at += 1\n",
        "\n",
        "\n",
        "solution = Solution()\n",
        "nums1 = [0, 1, 0, 3, 12]\n",
        "solution.moveZeroes(nums1)\n",
        "print(nums1)\n",
        "\n",
        "nums2 = [0]\n",
        "solution.moveZeroes(nums2)\n",
        "print(nums2)\n"
      ]
    }
  ]
}