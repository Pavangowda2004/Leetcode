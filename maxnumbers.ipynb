{
  "nbformat": 4,
  "nbformat_minor": 0,
  "metadata": {
    "colab": {
      "provenance": []
    },
    "kernelspec": {
      "name": "python3",
      "display_name": "Python 3"
    },
    "language_info": {
      "name": "python"
    }
  },
  "cells": [
    {
      "cell_type": "code",
      "execution_count": 1,
      "metadata": {
        "colab": {
          "base_uri": "https://localhost:8080/"
        },
        "id": "EMds4Yd5dxuL",
        "outputId": "ee52680d-3612-49fe-d48d-578aa8064074"
      },
      "outputs": [
        {
          "output_type": "stream",
          "name": "stdout",
          "text": [
            "2\n",
            "1\n"
          ]
        }
      ],
      "source": [
        "class Solution:\n",
        "    def maxOperations(self, nums, k):\n",
        "        count = 0\n",
        "        nums_dict = {}\n",
        "\n",
        "        for num in nums:\n",
        "            complement = k - num\n",
        "            if complement in nums_dict and nums_dict[complement] > 0:\n",
        "                count += 1\n",
        "                nums_dict[complement] -= 1\n",
        "            else:\n",
        "                if num in nums_dict:\n",
        "                    nums_dict[num] += 1\n",
        "                else:\n",
        "                    nums_dict[num] = 1\n",
        "\n",
        "        return count\n",
        "\n",
        "\n",
        "solution = Solution()\n",
        "nums1 = [1, 2, 3, 4]\n",
        "k1 = 5\n",
        "print(solution.maxOperations(nums1, k1))\n",
        "\n",
        "nums2 = [3, 1, 3, 4, 3]\n",
        "k2 = 6\n",
        "print(solution.maxOperations(nums2, k2))\n"
      ]
    }
  ]
}