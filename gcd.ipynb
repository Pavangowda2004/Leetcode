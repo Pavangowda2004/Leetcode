{
  "nbformat": 4,
  "nbformat_minor": 0,
  "metadata": {
    "colab": {
      "provenance": []
    },
    "kernelspec": {
      "name": "python3",
      "display_name": "Python 3"
    },
    "language_info": {
      "name": "python"
    }
  },
  "cells": [
    {
      "cell_type": "code",
      "execution_count": 1,
      "metadata": {
        "colab": {
          "base_uri": "https://localhost:8080/"
        },
        "id": "WyJoo1qtc0kS",
        "outputId": "d69412cd-f241-45e0-e45b-f0c98cc3ed3e"
      },
      "outputs": [
        {
          "output_type": "stream",
          "name": "stdout",
          "text": [
            "AB\n"
          ]
        }
      ],
      "source": [
        "class Solution:\n",
        "    def gcdOfStrings(self, str1, str2):\n",
        "        def gcd(a, b):\n",
        "            while b:\n",
        "                a, b = b, a % b\n",
        "            return a\n",
        "\n",
        "        if str1 + str2 != str2 + str1:\n",
        "            return \"\"\n",
        "\n",
        "        gcd_length = gcd(len(str1), len(str2))\n",
        "        return str1[:gcd_length]\n",
        "solution = Solution()\n",
        "str1 = \"ABABAB\"\n",
        "str2 = \"ABAB\"\n",
        "print(solution.gcdOfStrings(str1, str2))"
      ]
    }
  ]
}