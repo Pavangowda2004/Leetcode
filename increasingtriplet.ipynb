{
  "nbformat": 4,
  "nbformat_minor": 0,
  "metadata": {
    "colab": {
      "provenance": []
    },
    "kernelspec": {
      "name": "python3",
      "display_name": "Python 3"
    },
    "language_info": {
      "name": "python"
    }
  },
  "cells": [
    {
      "cell_type": "code",
      "execution_count": 1,
      "metadata": {
        "colab": {
          "base_uri": "https://localhost:8080/"
        },
        "id": "wHFMfZ0gXqpD",
        "outputId": "6490ca9f-28d6-4639-e9f7-84cb111fe39c"
      },
      "outputs": [
        {
          "output_type": "stream",
          "name": "stdout",
          "text": [
            "True\n",
            "False\n",
            "True\n"
          ]
        }
      ],
      "source": [
        "class Solution:\n",
        "    def increasingTriplet(self, nums):\n",
        "        first = second = float('inf')\n",
        "        for num in nums:\n",
        "            if num <= first:\n",
        "                first = num\n",
        "            elif num <= second:\n",
        "                second = num\n",
        "            else:\n",
        "                return True\n",
        "        return False\n",
        "\n",
        "\n",
        "solution = Solution()\n",
        "nums1 = [1, 2, 3, 4, 5]\n",
        "print(solution.increasingTriplet(nums1))\n",
        "\n",
        "nums2 = [5, 4, 3, 2, 1]\n",
        "print(solution.increasingTriplet(nums2))\n",
        "\n",
        "nums3 = [2, 1, 5, 0, 4, 6]\n",
        "print(solution.increasingTriplet(nums3))\n"
      ]
    }
  ]
}